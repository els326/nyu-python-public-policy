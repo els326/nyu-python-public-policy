{
  "nbformat": 4,
  "nbformat_minor": 0,
  "metadata": {
    "colab": {
      "name": "HW1.ipynb",
      "provenance": [],
      "include_colab_link": true
    },
    "kernelspec": {
      "name": "python3",
      "display_name": "Python 3"
    }
  },
  "cells": [
    {
      "cell_type": "markdown",
      "metadata": {
        "id": "view-in-github",
        "colab_type": "text"
      },
      "source": [
        "<a href=\"https://colab.research.google.com/github/els326/nyu-python-public-policy/blob/master/HW1.ipynb\" target=\"_parent\"><img src=\"https://colab.research.google.com/assets/colab-badge.svg\" alt=\"Open In Colab\"/></a>"
      ]
    },
    {
      "cell_type": "code",
      "metadata": {
        "id": "xlGbegBcOsLa",
        "colab_type": "code",
        "colab": {
          "base_uri": "https://localhost:8080/",
          "height": 122
        },
        "outputId": "daeaabcc-edbe-469d-be7f-386c76dda528"
      },
      "source": [
        "import pandas as pd\n",
        "\n",
        "from google.colab import drive\n",
        "drive.mount('/content/drive')"
      ],
      "execution_count": 1,
      "outputs": [
        {
          "output_type": "stream",
          "text": [
            "Go to this URL in a browser: https://accounts.google.com/o/oauth2/auth?client_id=947318989803-6bn6qk8qdgf4n4g3pfee6491hc0brc4i.apps.googleusercontent.com&redirect_uri=urn%3Aietf%3Awg%3Aoauth%3A2.0%3Aoob&scope=email%20https%3A%2F%2Fwww.googleapis.com%2Fauth%2Fdocs.test%20https%3A%2F%2Fwww.googleapis.com%2Fauth%2Fdrive%20https%3A%2F%2Fwww.googleapis.com%2Fauth%2Fdrive.photos.readonly%20https%3A%2F%2Fwww.googleapis.com%2Fauth%2Fpeopleapi.readonly&response_type=code\n",
            "\n",
            "Enter your authorization code:\n",
            "··········\n",
            "Mounted at /content/drive\n"
          ],
          "name": "stdout"
        }
      ]
    },
    {
      "cell_type": "code",
      "metadata": {
        "id": "DwJZpGguR5Xd",
        "colab_type": "code",
        "outputId": "e194ccee-bbb9-427f-ae0c-18f107107c66",
        "colab": {
          "base_uri": "https://localhost:8080/",
          "height": 71
        }
      },
      "source": [
        "df = pd.read_csv('/content/drive/My Drive/Data for Python/311_Service_Requests_2018-19.csv',header='infer')"
      ],
      "execution_count": 2,
      "outputs": [
        {
          "output_type": "stream",
          "text": [
            "/usr/local/lib/python3.6/dist-packages/IPython/core/interactiveshell.py:2718: DtypeWarning: Columns (8,17,20,31,34) have mixed types. Specify dtype option on import or set low_memory=False.\n",
            "  interactivity=interactivity, compiler=compiler, result=result)\n"
          ],
          "name": "stderr"
        }
      ]
    },
    {
      "cell_type": "code",
      "metadata": {
        "id": "_FHY9FHWTf1n",
        "colab_type": "code",
        "colab": {
          "base_uri": "https://localhost:8080/",
          "height": 221
        },
        "outputId": "aa9fbf69-fc74-4e9d-ae90-2e7c5cf94893"
      },
      "source": [
        "# What is the minimum value in the \"Created Date\" column? It is August 1st, 2018 12:00:26 AM.\n",
        "\n",
        "df['Created Date'].min"
      ],
      "execution_count": 6,
      "outputs": [
        {
          "output_type": "execute_result",
          "data": {
            "text/plain": [
              "<bound method Series.min of 0          08/01/2018 12:00:10 AM\n",
              "1          08/01/2018 12:00:26 AM\n",
              "2          08/01/2018 12:00:54 AM\n",
              "3          08/01/2018 12:01:00 AM\n",
              "4          08/01/2018 12:01:00 AM\n",
              "                    ...          \n",
              "2859195    08/24/2019 02:00:14 AM\n",
              "2859196    08/24/2019 02:00:20 AM\n",
              "2859197    08/24/2019 02:00:27 AM\n",
              "2859198    08/24/2019 02:00:54 AM\n",
              "2859199    08/24/2019 02:00:56 AM\n",
              "Name: Created Date, Length: 2859200, dtype: object>"
            ]
          },
          "metadata": {
            "tags": []
          },
          "execution_count": 6
        }
      ]
    },
    {
      "cell_type": "code",
      "metadata": {
        "id": "DX9OiHyzUTG4",
        "colab_type": "code",
        "colab": {
          "base_uri": "https://localhost:8080/",
          "height": 221
        },
        "outputId": "68f4c277-9270-466c-fea3-b151cfd0887a"
      },
      "source": [
        "# What is the maximum value in the \"Created Date\" column? It is August 24th, 2019 2:00:56 AM.\n",
        "\n",
        "df['Created Date'].max"
      ],
      "execution_count": 7,
      "outputs": [
        {
          "output_type": "execute_result",
          "data": {
            "text/plain": [
              "<bound method Series.max of 0          08/01/2018 12:00:10 AM\n",
              "1          08/01/2018 12:00:26 AM\n",
              "2          08/01/2018 12:00:54 AM\n",
              "3          08/01/2018 12:01:00 AM\n",
              "4          08/01/2018 12:01:00 AM\n",
              "                    ...          \n",
              "2859195    08/24/2019 02:00:14 AM\n",
              "2859196    08/24/2019 02:00:20 AM\n",
              "2859197    08/24/2019 02:00:27 AM\n",
              "2859198    08/24/2019 02:00:54 AM\n",
              "2859199    08/24/2019 02:00:56 AM\n",
              "Name: Created Date, Length: 2859200, dtype: object>"
            ]
          },
          "metadata": {
            "tags": []
          },
          "execution_count": 7
        }
      ]
    },
    {
      "cell_type": "markdown",
      "metadata": {
        "id": "ZE0TCRcjZDgw",
        "colab_type": "text"
      },
      "source": [
        "I thought that the 311 data was for the full calendar years of 2018 and 2019. So I would expect the minimum date to be in January 2018 and the maximum date to be in October 2019."
      ]
    },
    {
      "cell_type": "markdown",
      "metadata": {
        "id": "0dT3CuPYZlV4",
        "colab_type": "text"
      },
      "source": [
        "I'm interested in the grouping and dictionary functions. One thing I'm interested for work is: how do we create another column in the data set with new values for the values in the original data set? And then group by those new values. In Excel, I've used vlookups and pivot tables to do this. "
      ]
    },
    {
      "cell_type": "code",
      "metadata": {
        "id": "ux-TlT-KZeB0",
        "colab_type": "code",
        "colab": {}
      },
      "source": [
        ""
      ],
      "execution_count": 0,
      "outputs": []
    }
  ]
}